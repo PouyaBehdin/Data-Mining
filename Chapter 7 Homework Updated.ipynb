{
 "cells": [
  {
   "cell_type": "code",
   "execution_count": 53,
   "id": "50c23e74",
   "metadata": {},
   "outputs": [],
   "source": [
    "%matplotlib inline\n",
    "from pathlib import Path\n",
    "import pandas as pd\n",
    "from sklearn import preprocessing\n",
    "from sklearn.model_selection import train_test_split\n",
    "from sklearn.metrics import accuracy_score\n",
    "from sklearn.neighbors import NearestNeighbors, KNeighborsClassifier, KNeighborsRegressor\n",
    "from dmba import regressionSummary, classificationSummary, liftChart, gainsChart\n",
    "from sklearn.metrics import accuracy_score, confusion_matrix, mean_squared_error\n",
    "import matplotlib.pylab as plt\n",
    "import numpy as np\n",
    "from sklearn.model_selection import KFold\n",
    "from sklearn.model_selection import cross_val_score\n",
    "import os"
   ]
  },
  {
   "cell_type": "markdown",
   "id": "c2ccbd58",
   "metadata": {},
   "source": [
    "# 7.2"
   ]
  },
  {
   "cell_type": "code",
   "execution_count": 54,
   "id": "ad053109",
   "metadata": {},
   "outputs": [
    {
     "name": "stdout",
     "output_type": "stream",
     "text": [
      "/Users/pouyasohrab\n"
     ]
    }
   ],
   "source": [
    "# Directory\n",
    "\n",
    "working_directory = os.getcwd()\n",
    "print(working_directory)"
   ]
  },
  {
   "cell_type": "code",
   "execution_count": 55,
   "id": "23a6c3ab",
   "metadata": {},
   "outputs": [],
   "source": [
    "# Defining the Data Frame\n",
    "\n",
    "path = working_directory + '/dmba/UniversalBank.csv'\n",
    "df = pd.read_csv(path)"
   ]
  },
  {
   "cell_type": "code",
   "execution_count": 56,
   "id": "be3f7bff",
   "metadata": {},
   "outputs": [],
   "source": [
    "# Remove columns\n",
    "\n",
    "predictors = ['Age', 'Experience', 'Income', 'Family', 'CCAvg', 'Education_1', 'Education_2', 'Education_3',\n",
    "              'Mortgage', 'Securities Account', 'CD Account', 'Online', 'CreditCard']\n",
    "\n",
    "outcome = 'Personal Loan'\n",
    "\n",
    "df['Education'] = df['Education'].astype('category')\n",
    "\n",
    "# Create dummy variables\n",
    "\n",
    "df = pd.get_dummies(df, prefix_sep='_', drop_first=False)\n",
    "\n",
    "# Split the data\n",
    "\n",
    "train_df, valid_df = train_test_split(df, test_size=0.4, random_state=1)\n"
   ]
  },
  {
   "cell_type": "code",
   "execution_count": 57,
   "id": "f865b2f9",
   "metadata": {},
   "outputs": [],
   "source": [
    "# Scale Variables\n",
    "\n",
    "scaler = preprocessing.StandardScaler()\n",
    "scaler.fit(train_df[predictors])\n",
    "#scaler.transform(train_df[predictors])\n",
    "# Transform the predictors of training, validation and newCustomer\n",
    "train_X = scaler.transform(train_df[predictors])\n",
    "train_y = train_df[outcome]\n",
    "valid_X = scaler.transform(valid_df[predictors])\n",
    "valid_y = valid_df[outcome]"
   ]
  },
  {
   "cell_type": "code",
   "execution_count": 58,
   "id": "d9739e7b",
   "metadata": {},
   "outputs": [
    {
     "data": {
      "text/html": [
       "<style>#sk-container-id-3 {color: black;background-color: white;}#sk-container-id-3 pre{padding: 0;}#sk-container-id-3 div.sk-toggleable {background-color: white;}#sk-container-id-3 label.sk-toggleable__label {cursor: pointer;display: block;width: 100%;margin-bottom: 0;padding: 0.3em;box-sizing: border-box;text-align: center;}#sk-container-id-3 label.sk-toggleable__label-arrow:before {content: \"▸\";float: left;margin-right: 0.25em;color: #696969;}#sk-container-id-3 label.sk-toggleable__label-arrow:hover:before {color: black;}#sk-container-id-3 div.sk-estimator:hover label.sk-toggleable__label-arrow:before {color: black;}#sk-container-id-3 div.sk-toggleable__content {max-height: 0;max-width: 0;overflow: hidden;text-align: left;background-color: #f0f8ff;}#sk-container-id-3 div.sk-toggleable__content pre {margin: 0.2em;color: black;border-radius: 0.25em;background-color: #f0f8ff;}#sk-container-id-3 input.sk-toggleable__control:checked~div.sk-toggleable__content {max-height: 200px;max-width: 100%;overflow: auto;}#sk-container-id-3 input.sk-toggleable__control:checked~label.sk-toggleable__label-arrow:before {content: \"▾\";}#sk-container-id-3 div.sk-estimator input.sk-toggleable__control:checked~label.sk-toggleable__label {background-color: #d4ebff;}#sk-container-id-3 div.sk-label input.sk-toggleable__control:checked~label.sk-toggleable__label {background-color: #d4ebff;}#sk-container-id-3 input.sk-hidden--visually {border: 0;clip: rect(1px 1px 1px 1px);clip: rect(1px, 1px, 1px, 1px);height: 1px;margin: -1px;overflow: hidden;padding: 0;position: absolute;width: 1px;}#sk-container-id-3 div.sk-estimator {font-family: monospace;background-color: #f0f8ff;border: 1px dotted black;border-radius: 0.25em;box-sizing: border-box;margin-bottom: 0.5em;}#sk-container-id-3 div.sk-estimator:hover {background-color: #d4ebff;}#sk-container-id-3 div.sk-parallel-item::after {content: \"\";width: 100%;border-bottom: 1px solid gray;flex-grow: 1;}#sk-container-id-3 div.sk-label:hover label.sk-toggleable__label {background-color: #d4ebff;}#sk-container-id-3 div.sk-serial::before {content: \"\";position: absolute;border-left: 1px solid gray;box-sizing: border-box;top: 0;bottom: 0;left: 50%;z-index: 0;}#sk-container-id-3 div.sk-serial {display: flex;flex-direction: column;align-items: center;background-color: white;padding-right: 0.2em;padding-left: 0.2em;position: relative;}#sk-container-id-3 div.sk-item {position: relative;z-index: 1;}#sk-container-id-3 div.sk-parallel {display: flex;align-items: stretch;justify-content: center;background-color: white;position: relative;}#sk-container-id-3 div.sk-item::before, #sk-container-id-3 div.sk-parallel-item::before {content: \"\";position: absolute;border-left: 1px solid gray;box-sizing: border-box;top: 0;bottom: 0;left: 50%;z-index: -1;}#sk-container-id-3 div.sk-parallel-item {display: flex;flex-direction: column;z-index: 1;position: relative;background-color: white;}#sk-container-id-3 div.sk-parallel-item:first-child::after {align-self: flex-end;width: 50%;}#sk-container-id-3 div.sk-parallel-item:last-child::after {align-self: flex-start;width: 50%;}#sk-container-id-3 div.sk-parallel-item:only-child::after {width: 0;}#sk-container-id-3 div.sk-dashed-wrapped {border: 1px dashed gray;margin: 0 0.4em 0.5em 0.4em;box-sizing: border-box;padding-bottom: 0.4em;background-color: white;}#sk-container-id-3 div.sk-label label {font-family: monospace;font-weight: bold;display: inline-block;line-height: 1.2em;}#sk-container-id-3 div.sk-label-container {text-align: center;}#sk-container-id-3 div.sk-container {/* jupyter's `normalize.less` sets `[hidden] { display: none; }` but bootstrap.min.css set `[hidden] { display: none !important; }` so we also need the `!important` here to be able to override the default hidden behavior on the sphinx rendered scikit-learn.org. See: https://github.com/scikit-learn/scikit-learn/issues/21755 */display: inline-block !important;position: relative;}#sk-container-id-3 div.sk-text-repr-fallback {display: none;}</style><div id=\"sk-container-id-3\" class=\"sk-top-container\"><div class=\"sk-text-repr-fallback\"><pre>KNeighborsClassifier(n_neighbors=1)</pre><b>In a Jupyter environment, please rerun this cell to show the HTML representation or trust the notebook. <br />On GitHub, the HTML representation is unable to render, please try loading this page with nbviewer.org.</b></div><div class=\"sk-container\" hidden><div class=\"sk-item\"><div class=\"sk-estimator sk-toggleable\"><input class=\"sk-toggleable__control sk-hidden--visually\" id=\"sk-estimator-id-3\" type=\"checkbox\" checked><label for=\"sk-estimator-id-3\" class=\"sk-toggleable__label sk-toggleable__label-arrow\">KNeighborsClassifier</label><div class=\"sk-toggleable__content\"><pre>KNeighborsClassifier(n_neighbors=1)</pre></div></div></div></div></div>"
      ],
      "text/plain": [
       "KNeighborsClassifier(n_neighbors=1)"
      ]
     },
     "execution_count": 58,
     "metadata": {},
     "output_type": "execute_result"
    }
   ],
   "source": [
    "# KNN\n",
    "\n",
    "knn = KNeighborsClassifier(n_neighbors=1)\n",
    "knn.fit(train_X, train_y)"
   ]
  },
  {
   "cell_type": "code",
   "execution_count": 59,
   "id": "f0bca60b",
   "metadata": {},
   "outputs": [
    {
     "name": "stdout",
     "output_type": "stream",
     "text": [
      "Classified as not accepting the loan\n"
     ]
    }
   ],
   "source": [
    "# Predict Data Frame\n",
    "\n",
    "new_customer = pd.DataFrame(\n",
    "    [{'Age': 40, 'Experience': 10, 'Income': 84, 'Family': 2, 'CCAvg': 2, 'Education_1': 0, 'Education_2': 1,\n",
    "      'Education_3': 0, 'Mortgage': 0, 'Securities Account': 0, 'CD Account': 0, 'Online': 1, 'CreditCard': 1}]\n",
    ")\n",
    "\n",
    "# Scale new data\n",
    "\n",
    "new_customer = scaler.transform(new_customer)\n",
    "\n",
    "# Predict\n",
    "\n",
    "prediction = knn.predict(new_customer)\n",
    "\n",
    "# Loop\n",
    "\n",
    "if prediction == 1:\n",
    "    print(\"Classified as accepting the loan\")\n",
    "else:\n",
    "    print(\"Classified as not accepting the loan\")"
   ]
  },
  {
   "cell_type": "code",
   "execution_count": 60,
   "id": "02330824",
   "metadata": {},
   "outputs": [
    {
     "name": "stdout",
     "output_type": "stream",
     "text": [
      "Confusion Matrix (Accuracy 0.9545)\n",
      "\n",
      "       Prediction\n",
      "Actual    0    1\n",
      "     0 1785   22\n",
      "     1   69  124\n"
     ]
    }
   ],
   "source": [
    "classificationSummary(valid_y, knn.predict(valid_X))"
   ]
  },
  {
   "cell_type": "code",
   "execution_count": 61,
   "id": "99be6d56",
   "metadata": {},
   "outputs": [
    {
     "name": "stdout",
     "output_type": "stream",
     "text": [
      "     k  accuracy\n",
      "0    1    0.9545\n",
      "1    2    0.9500\n",
      "2    3    0.9535\n",
      "3    4    0.9495\n",
      "4    5    0.9565\n",
      "5    6    0.9495\n",
      "6    7    0.9520\n",
      "7    8    0.9460\n",
      "8    9    0.9475\n",
      "9   10    0.9435\n",
      "10  11    0.9465\n",
      "11  12    0.9435\n",
      "12  13    0.9450\n",
      "13  14    0.9435\n"
     ]
    }
   ],
   "source": [
    "#b.\n",
    "\n",
    "import pandas as pd\n",
    "from sklearn.neighbors import KNeighborsClassifier\n",
    "from sklearn.metrics import accuracy_score\n",
    "\n",
    "# Train a classifier for different values of k\n",
    "\n",
    "results = []\n",
    "for k in range(1, 15):\n",
    "    knn = KNeighborsClassifier(n_neighbors=k).fit(train_X, train_y)\n",
    "    accuracy = accuracy_score(valid_y, knn.predict(valid_X))\n",
    "    results.append({'k': k, 'accuracy': accuracy})\n",
    "\n",
    "# Convert results to a pandas data frame\n",
    "\n",
    "results = pd.DataFrame(results)\n",
    "print(results)"
   ]
  },
  {
   "cell_type": "code",
   "execution_count": 62,
   "id": "f466cf87",
   "metadata": {},
   "outputs": [
    {
     "data": {
      "text/html": [
       "<div>\n",
       "<style scoped>\n",
       "    .dataframe tbody tr th:only-of-type {\n",
       "        vertical-align: middle;\n",
       "    }\n",
       "\n",
       "    .dataframe tbody tr th {\n",
       "        vertical-align: top;\n",
       "    }\n",
       "\n",
       "    .dataframe thead th {\n",
       "        text-align: right;\n",
       "    }\n",
       "</style>\n",
       "<table border=\"1\" class=\"dataframe\">\n",
       "  <thead>\n",
       "    <tr style=\"text-align: right;\">\n",
       "      <th></th>\n",
       "      <th>k</th>\n",
       "      <th>accuracy</th>\n",
       "    </tr>\n",
       "  </thead>\n",
       "  <tbody>\n",
       "    <tr>\n",
       "      <th>4</th>\n",
       "      <td>5</td>\n",
       "      <td>0.9565</td>\n",
       "    </tr>\n",
       "    <tr>\n",
       "      <th>0</th>\n",
       "      <td>1</td>\n",
       "      <td>0.9545</td>\n",
       "    </tr>\n",
       "    <tr>\n",
       "      <th>2</th>\n",
       "      <td>3</td>\n",
       "      <td>0.9535</td>\n",
       "    </tr>\n",
       "    <tr>\n",
       "      <th>6</th>\n",
       "      <td>7</td>\n",
       "      <td>0.9520</td>\n",
       "    </tr>\n",
       "    <tr>\n",
       "      <th>1</th>\n",
       "      <td>2</td>\n",
       "      <td>0.9500</td>\n",
       "    </tr>\n",
       "    <tr>\n",
       "      <th>3</th>\n",
       "      <td>4</td>\n",
       "      <td>0.9495</td>\n",
       "    </tr>\n",
       "    <tr>\n",
       "      <th>5</th>\n",
       "      <td>6</td>\n",
       "      <td>0.9495</td>\n",
       "    </tr>\n",
       "    <tr>\n",
       "      <th>8</th>\n",
       "      <td>9</td>\n",
       "      <td>0.9475</td>\n",
       "    </tr>\n",
       "    <tr>\n",
       "      <th>10</th>\n",
       "      <td>11</td>\n",
       "      <td>0.9465</td>\n",
       "    </tr>\n",
       "    <tr>\n",
       "      <th>7</th>\n",
       "      <td>8</td>\n",
       "      <td>0.9460</td>\n",
       "    </tr>\n",
       "    <tr>\n",
       "      <th>12</th>\n",
       "      <td>13</td>\n",
       "      <td>0.9450</td>\n",
       "    </tr>\n",
       "    <tr>\n",
       "      <th>9</th>\n",
       "      <td>10</td>\n",
       "      <td>0.9435</td>\n",
       "    </tr>\n",
       "    <tr>\n",
       "      <th>11</th>\n",
       "      <td>12</td>\n",
       "      <td>0.9435</td>\n",
       "    </tr>\n",
       "    <tr>\n",
       "      <th>13</th>\n",
       "      <td>14</td>\n",
       "      <td>0.9435</td>\n",
       "    </tr>\n",
       "  </tbody>\n",
       "</table>\n",
       "</div>"
      ],
      "text/plain": [
       "     k  accuracy\n",
       "4    5    0.9565\n",
       "0    1    0.9545\n",
       "2    3    0.9535\n",
       "6    7    0.9520\n",
       "1    2    0.9500\n",
       "3    4    0.9495\n",
       "5    6    0.9495\n",
       "8    9    0.9475\n",
       "10  11    0.9465\n",
       "7    8    0.9460\n",
       "12  13    0.9450\n",
       "9   10    0.9435\n",
       "11  12    0.9435\n",
       "13  14    0.9435"
      ]
     },
     "execution_count": 62,
     "metadata": {},
     "output_type": "execute_result"
    }
   ],
   "source": [
    "results.sort_values(by='accuracy', ascending=False)"
   ]
  },
  {
   "cell_type": "code",
   "execution_count": 63,
   "id": "bf91c2e0",
   "metadata": {},
   "outputs": [
    {
     "name": "stdout",
     "output_type": "stream",
     "text": [
      "[0]\n"
     ]
    }
   ],
   "source": [
    "#c.\n",
    "\n",
    "# Retrain with full dataset for 5 neighbors\n",
    "\n",
    "knn = KNeighborsClassifier(n_neighbors=5).fit(train_X, train_y)\n",
    "\n",
    "# Predict the class for the new customer using the transformed new customer data\n",
    "\n",
    "predicted_class = knn.predict(new_customer)\n",
    "print(predicted_class)"
   ]
  },
  {
   "cell_type": "code",
   "execution_count": 64,
   "id": "1ef1a237",
   "metadata": {},
   "outputs": [
    {
     "name": "stdout",
     "output_type": "stream",
     "text": [
      "Confusion Matrix (Accuracy 0.9565)\n",
      "\n",
      "       Prediction\n",
      "Actual    0    1\n",
      "     0 1803    4\n",
      "     1   83  110\n",
      "None\n"
     ]
    }
   ],
   "source": [
    "# Generate the classification report for the validation data\n",
    "\n",
    "classification_r = classificationSummary(valid_y, knn.predict(valid_X))\n",
    "print(classification_r)"
   ]
  },
  {
   "cell_type": "code",
   "execution_count": 65,
   "id": "a2f854e5",
   "metadata": {},
   "outputs": [
    {
     "name": "stdout",
     "output_type": "stream",
     "text": [
      "Confusion Matrix \n",
      " [[1803    4]\n",
      " [  83  110]]\n"
     ]
    }
   ],
   "source": [
    "print('Confusion Matrix \\n', confusion_matrix(valid_y, knn.predict(valid_X)))"
   ]
  },
  {
   "cell_type": "code",
   "execution_count": 66,
   "id": "5058fc50",
   "metadata": {},
   "outputs": [
    {
     "name": "stdout",
     "output_type": "stream",
     "text": [
      "Accuracy : 0.9565\n"
     ]
    }
   ],
   "source": [
    "print('Accuracy :', accuracy_score(valid_y, knn.predict(valid_X)))"
   ]
  },
  {
   "cell_type": "code",
   "execution_count": 67,
   "id": "b08d0457",
   "metadata": {},
   "outputs": [
    {
     "name": "stdout",
     "output_type": "stream",
     "text": [
      "Classified as: [0]\n"
     ]
    }
   ],
   "source": [
    "#d.\n",
    "\n",
    "# New data\n",
    "\n",
    "customer_data = pd.DataFrame([{'Age': 40, 'Experience': 10, 'Income': 84, 'Family': 2, 'CCAvg': 2, 'Education_1': 0,\n",
    "                               'Education_2': 1, 'Education_3': 0, 'Mortgage': 0, 'Securities Account': 0,\n",
    "                               'CD Account': 0, 'Online': 1, 'CreditCard': 1}])\n",
    "\n",
    "# Scale data\n",
    "\n",
    "customer_data = scaler.transform(customer_data)\n",
    "\n",
    "# Predict class\n",
    "\n",
    "predicted_class = knn.predict(customer_data)\n",
    "\n",
    "print(\"Classified as:\", predicted_class)"
   ]
  },
  {
   "cell_type": "code",
   "execution_count": 68,
   "id": "cc54c9a6",
   "metadata": {},
   "outputs": [
    {
     "name": "stdout",
     "output_type": "stream",
     "text": [
      "Classified as not accepting the loan\n"
     ]
    }
   ],
   "source": [
    "if prediction == 1:\n",
    "    print(\"Classified as accepting the loan\")\n",
    "else:\n",
    "    print(\"Classified as not accepting the loan\")"
   ]
  },
  {
   "cell_type": "code",
   "execution_count": 69,
   "id": "4ceb8d19",
   "metadata": {},
   "outputs": [],
   "source": [
    "#e.\n",
    "\n",
    "from sklearn.metrics import confusion_matrix\n",
    "\n",
    "# Repartition the data\n",
    "\n",
    "train_df, tp_df = train_test_split(df, test_size=0.5, random_state=1)\n",
    "valid_df, test_df = train_test_split(tp_df, test_size=0.4, random_state=1)\n",
    "\n"
   ]
  },
  {
   "cell_type": "code",
   "execution_count": 70,
   "id": "d6506c32",
   "metadata": {},
   "outputs": [],
   "source": [
    "# Scale Variables\n",
    "\n",
    "scaler = preprocessing.StandardScaler()\n",
    "scaler.fit(train_df[predictors])\n",
    "#scaler.transform(train_df[predictors])\n",
    "# Transform the predictors of training, validation and newCustomer\n",
    "train_X = scaler.transform(train_df[predictors])\n",
    "train_y = train_df[outcome]\n",
    "valid_X = scaler.transform(valid_df[predictors])\n",
    "valid_y = valid_df[outcome]\n",
    "test_X = scaler.transform(test_df[predictors])\n",
    "test_y = test_df[outcome]"
   ]
  },
  {
   "cell_type": "code",
   "execution_count": 71,
   "id": "217e7f0f",
   "metadata": {},
   "outputs": [],
   "source": [
    "# k-NN method\n",
    "\n",
    "knn = KNeighborsClassifier(n_neighbors=1).fit(train_X, train_y)"
   ]
  },
  {
   "cell_type": "code",
   "execution_count": 72,
   "id": "343f8a53",
   "metadata": {},
   "outputs": [
    {
     "name": "stdout",
     "output_type": "stream",
     "text": [
      "Confusion Matrix (Accuracy 1.0000)\n",
      "\n",
      "       Prediction\n",
      "Actual    0    1\n",
      "     0 2259    0\n",
      "     1    0  241\n",
      "None\n"
     ]
    }
   ],
   "source": [
    "# Generate the classification report for the training data\n",
    "\n",
    "classification_r = classificationSummary(train_y, knn.predict(train_X))\n",
    "print(classification_r)"
   ]
  },
  {
   "cell_type": "code",
   "execution_count": 73,
   "id": "29972268",
   "metadata": {},
   "outputs": [
    {
     "name": "stdout",
     "output_type": "stream",
     "text": [
      "Confusion Matrix (Accuracy 0.9553)\n",
      "\n",
      "       Prediction\n",
      "Actual    0    1\n",
      "     0 1333   16\n",
      "     1   51  100\n",
      "None\n"
     ]
    }
   ],
   "source": [
    "# Generate the classification report for the validation data\n",
    "\n",
    "classification_r = classificationSummary(valid_y, knn.predict(valid_X))\n",
    "print(classification_r)"
   ]
  },
  {
   "cell_type": "code",
   "execution_count": 74,
   "id": "73e8ada2",
   "metadata": {},
   "outputs": [
    {
     "name": "stdout",
     "output_type": "stream",
     "text": [
      "Confusion Matrix (Accuracy 0.9570)\n",
      "\n",
      "       Prediction\n",
      "Actual   0   1\n",
      "     0 897  15\n",
      "     1  28  60\n",
      "None\n"
     ]
    }
   ],
   "source": [
    "# Generate the classification report for the test data\n",
    "\n",
    "classification_r = classificationSummary(test_y, knn.predict(test_X))\n",
    "print(classification_r)"
   ]
  },
  {
   "cell_type": "code",
   "execution_count": 75,
   "id": "54a9455b",
   "metadata": {},
   "outputs": [
    {
     "data": {
      "image/png": "[encoded data removed]",
      "text/plain": [
       "<Figure size 1000x400 with 2 Axes>"
      ]
     },
     "metadata": {},
     "output_type": "display_data"
    }
   ],
   "source": [
    "%matplotlib inline\n",
    "proba = knn.predict_proba(test_X)\n",
    "result = pd.DataFrame({'actual': test_y, \n",
    "                       'p(0)': [p[0] for p in proba],\n",
    "                       'p(1)': [p[1] for p in proba],\n",
    "                       'predicted': knn.predict(test_X) })\n",
    "df = result.sort_values(by=['p(1)'], ascending=False)\n",
    "fig, axes = plt.subplots(nrows=1, ncols=2, figsize=(10, 4))\n",
    "gainsChart(df.actual, ax=axes[0])\n",
    "liftChart(df.actual, title=False)\n",
    "plt.show()"
   ]
  },
  {
   "cell_type": "markdown",
   "id": "261ba852",
   "metadata": {},
   "source": [
    "In the 10th percentile, the model performs 6.9 times better than the baseline. The training set has better accuracy results but that is to be expected since it was trained on the training set. The validation set shows 95% accuracy which is relatively accurate."
   ]
  },
  {
   "cell_type": "markdown",
   "id": "823fc024",
   "metadata": {},
   "source": [
    "# 7.2 - Revised (NEW)"
   ]
  },
  {
   "cell_type": "code",
   "execution_count": 76,
   "id": "3dfe6c7a",
   "metadata": {},
   "outputs": [],
   "source": [
    "# Defining the Data Frame\n",
    "\n",
    "path = working_directory + '/dmba/UniversalBank.csv'\n",
    "df3 = pd.read_csv(path)"
   ]
  },
  {
   "cell_type": "code",
   "execution_count": 77,
   "id": "62aa78f8",
   "metadata": {},
   "outputs": [],
   "source": [
    "# Remove columns\n",
    "\n",
    "predictors = ['Age', 'Experience', 'Income', 'Family', 'CCAvg', 'Education_1', 'Education_2', 'Education_3',\n",
    "              'Mortgage', 'Securities Account', 'CD Account', 'Online', 'CreditCard']\n",
    "\n",
    "outcome = 'Personal Loan'\n",
    "\n",
    "df3['Education'] = df3['Education'].astype('category')\n",
    "\n",
    "# Create dummy variables\n",
    "\n",
    "df3 = pd.get_dummies(df3, prefix_sep='_', drop_first=False)"
   ]
  },
  {
   "cell_type": "code",
   "execution_count": 78,
   "id": "18379687",
   "metadata": {},
   "outputs": [
    {
     "name": "stdout",
     "output_type": "stream",
     "text": [
      "(2500, 16) (1500, 16) (1000, 16)\n"
     ]
    }
   ],
   "source": [
    "# Repartition the data\n",
    "\n",
    "train_df, tp_df = train_test_split(df3, test_size=0.5, random_state=1)\n",
    "valid_df, test_df = train_test_split(tp_df, test_size=0.4, random_state=1)\n",
    "\n",
    "# Scale Variables\n",
    "\n",
    "scaler = preprocessing.StandardScaler()\n",
    "scaler.fit(train_df[predictors])\n",
    "#scaler.transform(train_df[predictors])\n",
    "# Transform the predictors of training, validation and newCustomer\n",
    "train_X = scaler.transform(train_df[predictors])\n",
    "train_y = train_df[outcome]\n",
    "valid_X = scaler.transform(valid_df[predictors])\n",
    "valid_y = valid_df[outcome]\n",
    "test_X = scaler.transform(test_df[predictors])\n",
    "test_y = test_df[outcome]\n",
    "\n",
    "print(train_df.shape, valid_df.shape, test_df.shape)"
   ]
  },
  {
   "cell_type": "code",
   "execution_count": 80,
   "id": "8597dc87",
   "metadata": {},
   "outputs": [
    {
     "name": "stdout",
     "output_type": "stream",
     "text": [
      "[0]\n",
      "Classified as not accepting the loan\n"
     ]
    }
   ],
   "source": [
    "# Retrain\n",
    "\n",
    "knnew = KNeighborsClassifier(n_neighbors=1).fit(train_X, train_y)\n",
    "\n",
    "# Predict the class for the new customer using the transformed new customer data\n",
    "\n",
    "predicted_class = knnew.predict(new_customer)\n",
    "print(predicted_class)\n",
    "\n",
    "# Loop\n",
    "\n",
    "if prediction == 1:\n",
    "    print(\"Classified as accepting the loan\")\n",
    "else:\n",
    "    print(\"Classified as not accepting the loan\")"
   ]
  },
  {
   "cell_type": "code",
   "execution_count": 81,
   "id": "2a0cc814",
   "metadata": {},
   "outputs": [
    {
     "name": "stdout",
     "output_type": "stream",
     "text": [
      "     k mean accuracy     sd\n",
      "0    1        95.68%  1.45%\n",
      "1    2        95.56%  1.28%\n",
      "2    3        96.08%  0.91%\n",
      "3    4        95.72%  1.25%\n",
      "4    5        96.04%  1.03%\n",
      "5    6        95.40%  1.20%\n",
      "6    7        95.52%  1.09%\n",
      "7    8        95.12%  1.43%\n",
      "8    9        95.20%  1.26%\n",
      "9   10        94.68%  1.43%\n",
      "10  11        95.08%  1.29%\n",
      "11  12        94.80%  1.29%\n",
      "12  13        95.16%  1.44%\n",
      "13  14        94.68%  1.28%\n"
     ]
    }
   ],
   "source": [
    "results = []\n",
    "\n",
    "for k in range(1,15):\n",
    "    kfold = KFold(n_splits=10, random_state=1, shuffle=True)\n",
    "    knn = KNeighborsClassifier(n_neighbors=k)\n",
    "    scores = cross_val_score(estimator=knn, X=train_X, y=train_y, cv=kfold)\n",
    "    results.append({\n",
    "        'k':k, 'mean accuracy' : f'{scores.mean():.2%}', 'sd' : f'{scores.std():.2%}'\n",
    "    })\n",
    "    \n",
    "results = pd.DataFrame(results)\n",
    "print(results)"
   ]
  },
  {
   "cell_type": "code",
   "execution_count": 82,
   "id": "2b9aec4a",
   "metadata": {},
   "outputs": [
    {
     "data": {
      "text/html": [
       "<div>\n",
       "<style scoped>\n",
       "    .dataframe tbody tr th:only-of-type {\n",
       "        vertical-align: middle;\n",
       "    }\n",
       "\n",
       "    .dataframe tbody tr th {\n",
       "        vertical-align: top;\n",
       "    }\n",
       "\n",
       "    .dataframe thead th {\n",
       "        text-align: right;\n",
       "    }\n",
       "</style>\n",
       "<table border=\"1\" class=\"dataframe\">\n",
       "  <thead>\n",
       "    <tr style=\"text-align: right;\">\n",
       "      <th></th>\n",
       "      <th>k</th>\n",
       "      <th>mean accuracy</th>\n",
       "      <th>sd</th>\n",
       "    </tr>\n",
       "  </thead>\n",
       "  <tbody>\n",
       "    <tr>\n",
       "      <th>2</th>\n",
       "      <td>3</td>\n",
       "      <td>96.08%</td>\n",
       "      <td>0.91%</td>\n",
       "    </tr>\n",
       "    <tr>\n",
       "      <th>4</th>\n",
       "      <td>5</td>\n",
       "      <td>96.04%</td>\n",
       "      <td>1.03%</td>\n",
       "    </tr>\n",
       "    <tr>\n",
       "      <th>3</th>\n",
       "      <td>4</td>\n",
       "      <td>95.72%</td>\n",
       "      <td>1.25%</td>\n",
       "    </tr>\n",
       "    <tr>\n",
       "      <th>0</th>\n",
       "      <td>1</td>\n",
       "      <td>95.68%</td>\n",
       "      <td>1.45%</td>\n",
       "    </tr>\n",
       "    <tr>\n",
       "      <th>1</th>\n",
       "      <td>2</td>\n",
       "      <td>95.56%</td>\n",
       "      <td>1.28%</td>\n",
       "    </tr>\n",
       "    <tr>\n",
       "      <th>6</th>\n",
       "      <td>7</td>\n",
       "      <td>95.52%</td>\n",
       "      <td>1.09%</td>\n",
       "    </tr>\n",
       "    <tr>\n",
       "      <th>5</th>\n",
       "      <td>6</td>\n",
       "      <td>95.40%</td>\n",
       "      <td>1.20%</td>\n",
       "    </tr>\n",
       "    <tr>\n",
       "      <th>8</th>\n",
       "      <td>9</td>\n",
       "      <td>95.20%</td>\n",
       "      <td>1.26%</td>\n",
       "    </tr>\n",
       "    <tr>\n",
       "      <th>12</th>\n",
       "      <td>13</td>\n",
       "      <td>95.16%</td>\n",
       "      <td>1.44%</td>\n",
       "    </tr>\n",
       "    <tr>\n",
       "      <th>7</th>\n",
       "      <td>8</td>\n",
       "      <td>95.12%</td>\n",
       "      <td>1.43%</td>\n",
       "    </tr>\n",
       "    <tr>\n",
       "      <th>10</th>\n",
       "      <td>11</td>\n",
       "      <td>95.08%</td>\n",
       "      <td>1.29%</td>\n",
       "    </tr>\n",
       "    <tr>\n",
       "      <th>11</th>\n",
       "      <td>12</td>\n",
       "      <td>94.80%</td>\n",
       "      <td>1.29%</td>\n",
       "    </tr>\n",
       "    <tr>\n",
       "      <th>9</th>\n",
       "      <td>10</td>\n",
       "      <td>94.68%</td>\n",
       "      <td>1.43%</td>\n",
       "    </tr>\n",
       "    <tr>\n",
       "      <th>13</th>\n",
       "      <td>14</td>\n",
       "      <td>94.68%</td>\n",
       "      <td>1.28%</td>\n",
       "    </tr>\n",
       "  </tbody>\n",
       "</table>\n",
       "</div>"
      ],
      "text/plain": [
       "     k mean accuracy     sd\n",
       "2    3        96.08%  0.91%\n",
       "4    5        96.04%  1.03%\n",
       "3    4        95.72%  1.25%\n",
       "0    1        95.68%  1.45%\n",
       "1    2        95.56%  1.28%\n",
       "6    7        95.52%  1.09%\n",
       "5    6        95.40%  1.20%\n",
       "8    9        95.20%  1.26%\n",
       "12  13        95.16%  1.44%\n",
       "7    8        95.12%  1.43%\n",
       "10  11        95.08%  1.29%\n",
       "11  12        94.80%  1.29%\n",
       "9   10        94.68%  1.43%\n",
       "13  14        94.68%  1.28%"
      ]
     },
     "execution_count": 82,
     "metadata": {},
     "output_type": "execute_result"
    }
   ],
   "source": [
    "results.sort_values(by='mean accuracy', ascending=False)"
   ]
  },
  {
   "cell_type": "code",
   "execution_count": 83,
   "id": "f07cef23",
   "metadata": {},
   "outputs": [
    {
     "name": "stdout",
     "output_type": "stream",
     "text": [
      "Confusion Matrix (Accuracy 0.9547)\n",
      "\n",
      "       Prediction\n",
      "Actual    0    1\n",
      "     0 1343    6\n",
      "     1   62   89\n"
     ]
    }
   ],
   "source": [
    "newknn = KNeighborsClassifier(n_neighbors=3)\n",
    "newknn.fit(train_X, train_y)\n",
    "\n",
    "classificationSummary(valid_y, newknn.predict(valid_X))"
   ]
  },
  {
   "cell_type": "code",
   "execution_count": 84,
   "id": "43b12dd8",
   "metadata": {},
   "outputs": [
    {
     "name": "stdout",
     "output_type": "stream",
     "text": [
      "[0]\n",
      "Classified as not accepting the loan\n"
     ]
    }
   ],
   "source": [
    "# Predict the class for the new customer using the transformed new customer data\n",
    "\n",
    "predicted_class = newknn.predict(customer_data)\n",
    "print(predicted_class)\n",
    "\n",
    "# Loop\n",
    "\n",
    "if prediction == 1:\n",
    "    print(\"Classified as accepting the loan\")\n",
    "else:\n",
    "    print(\"Classified as not accepting the loan\")"
   ]
  },
  {
   "cell_type": "markdown",
   "id": "56f60346",
   "metadata": {},
   "source": [
    "# 7.3"
   ]
  },
  {
   "cell_type": "code",
   "execution_count": 85,
   "id": "cbfe2607",
   "metadata": {},
   "outputs": [],
   "source": [
    "import pandas as pd\n",
    "from sklearn.model_selection import train_test_split\n",
    "from sklearn.preprocessing import StandardScaler\n",
    "from sklearn.neighbors import KNeighborsRegressor\n",
    "from sklearn.metrics import mean_squared_error\n",
    "\n",
    "# Defining the Data Frame\n",
    "\n",
    "path2 = working_directory + '/dmba/BostonHousing.csv'\n",
    "df2 = pd.read_csv(path2)"
   ]
  },
  {
   "cell_type": "code",
   "execution_count": 86,
   "id": "4c60d70b",
   "metadata": {},
   "outputs": [
    {
     "data": {
      "text/plain": [
       "Index(['CRIM', 'ZN', 'INDUS', 'CHAS', 'NOX', 'RM', 'AGE', 'DIS', 'RAD', 'TAX',\n",
       "       'PTRATIO', 'LSTAT', 'MEDV', 'CAT. MEDV'],\n",
       "      dtype='object')"
      ]
     },
     "execution_count": 86,
     "metadata": {},
     "output_type": "execute_result"
    }
   ],
   "source": [
    "df2.columns"
   ]
  },
  {
   "cell_type": "code",
   "execution_count": 87,
   "id": "370aa703",
   "metadata": {},
   "outputs": [
    {
     "name": "stdout",
     "output_type": "stream",
     "text": [
      "(303, 13) (203, 13)\n"
     ]
    }
   ],
   "source": [
    "df2 = pd.get_dummies(df2.drop(columns='CAT. MEDV'), drop_first=False)\n",
    "housetraindf, housevalidf = train_test_split(df2, test_size=0.4, random_state=1)\n",
    "print(housetraindf.shape, housevalidf.shape)"
   ]
  },
  {
   "cell_type": "code",
   "execution_count": 88,
   "id": "44ae0692",
   "metadata": {},
   "outputs": [],
   "source": [
    "# Predictors and Target Variable\n",
    "\n",
    "target = 'MEDV'\n",
    "predictors = list(df2.columns)\n",
    "predictors.remove(target)\n",
    "scaler = preprocessing.StandardScaler()\n",
    "\n",
    "#predictors = df2.iloc[:, :-1]\n",
    "#predictors = df2.drop(['MEDV', 'CAT.MEDV'])\n",
    "#exclude = ['MEDV', 'CAT. MEDV']\n",
    "#predictors = df2.drop(exclude, axis=1)\n",
    "#target = df2['MEDV']"
   ]
  },
  {
   "cell_type": "code",
   "execution_count": 89,
   "id": "c2435eda",
   "metadata": {},
   "outputs": [
    {
     "name": "stdout",
     "output_type": "stream",
     "text": [
      "        CRIM    ZN  INDUS  CHAS    NOX     RM   AGE     DIS  RAD  TAX  \\\n",
      "0    0.00632  18.0   2.31     0  0.538  6.575  65.2  4.0900    1  296   \n",
      "1    0.02731   0.0   7.07     0  0.469  6.421  78.9  4.9671    2  242   \n",
      "2    0.02729   0.0   7.07     0  0.469  7.185  61.1  4.9671    2  242   \n",
      "3    0.03237   0.0   2.18     0  0.458  6.998  45.8  6.0622    3  222   \n",
      "4    0.06905   0.0   2.18     0  0.458  7.147  54.2  6.0622    3  222   \n",
      "..       ...   ...    ...   ...    ...    ...   ...     ...  ...  ...   \n",
      "501  0.06263   0.0  11.93     0  0.573  6.593  69.1  2.4786    1  273   \n",
      "502  0.04527   0.0  11.93     0  0.573  6.120  76.7  2.2875    1  273   \n",
      "503  0.06076   0.0  11.93     0  0.573  6.976  91.0  2.1675    1  273   \n",
      "504  0.10959   0.0  11.93     0  0.573  6.794  89.3  2.3889    1  273   \n",
      "505  0.04741   0.0  11.93     0  0.573  6.030  80.8  2.5050    1  273   \n",
      "\n",
      "     PTRATIO  LSTAT  MEDV  \n",
      "0       15.3   4.98  24.0  \n",
      "1       17.8   9.14  21.6  \n",
      "2       17.8   4.03  34.7  \n",
      "3       18.7   2.94  33.4  \n",
      "4       18.7   5.33  36.2  \n",
      "..       ...    ...   ...  \n",
      "501     21.0   9.67  22.4  \n",
      "502     21.0   9.08  20.6  \n",
      "503     21.0   5.64  23.9  \n",
      "504     21.0   6.48  22.0  \n",
      "505     21.0   7.88  11.9  \n",
      "\n",
      "[506 rows x 13 columns]\n"
     ]
    }
   ],
   "source": [
    "# Numerical Variables\n",
    "\n",
    "numerical_vars = df2.select_dtypes(include=['int', 'float'])\n",
    "print(numerical_vars)"
   ]
  },
  {
   "cell_type": "code",
   "execution_count": 90,
   "id": "39ebd317",
   "metadata": {},
   "outputs": [],
   "source": [
    "scaler.fit(housetraindf[predictors])\n",
    "#scaler.transform(train_df[predictors])\n",
    "# Transform the predictors of training, validation and newCustomer\n",
    "train_X = scaler.transform(housetraindf[predictors])\n",
    "train_y = housetraindf[target]\n",
    "valid_X = scaler.transform(housevalidf[predictors])\n",
    "valid_y = housevalidf[target]"
   ]
  },
  {
   "cell_type": "code",
   "execution_count": 92,
   "id": "eb6ecb9b",
   "metadata": {},
   "outputs": [],
   "source": [
    "# Split the data\n",
    "\n",
    "#train_X, valid_X, train_y, valid_y = train_test_split(normalized_predictors, target, test_size=0.4, random_state=1)"
   ]
  },
  {
   "cell_type": "code",
   "execution_count": 93,
   "id": "be5823ac",
   "metadata": {},
   "outputs": [
    {
     "name": "stdout",
     "output_type": "stream",
     "text": [
      "   k        MSE\n",
      "0  1  29.194877\n",
      "1  2  22.834655\n",
      "2  3  21.825725\n",
      "3  4  22.936616\n",
      "4  5  25.148451\n"
     ]
    }
   ],
   "source": [
    "#a.\n",
    "\n",
    "# Train a classifier for different values of k\n",
    "\n",
    "results = []\n",
    "for k in range(1, 6):\n",
    "    knn = KNeighborsRegressor(n_neighbors=k).fit(train_X, train_y)\n",
    "    mse = mean_squared_error(valid_y, knn.predict(valid_X))\n",
    "    results.append({'k': k, 'MSE': mse})\n",
    "\n",
    "# Convert results to a pandas data frame\n",
    "\n",
    "results = pd.DataFrame(results)\n",
    "print(results)"
   ]
  },
  {
   "cell_type": "code",
   "execution_count": 94,
   "id": "96592b52",
   "metadata": {},
   "outputs": [
    {
     "data": {
      "text/html": [
       "<div>\n",
       "<style scoped>\n",
       "    .dataframe tbody tr th:only-of-type {\n",
       "        vertical-align: middle;\n",
       "    }\n",
       "\n",
       "    .dataframe tbody tr th {\n",
       "        vertical-align: top;\n",
       "    }\n",
       "\n",
       "    .dataframe thead th {\n",
       "        text-align: right;\n",
       "    }\n",
       "</style>\n",
       "<table border=\"1\" class=\"dataframe\">\n",
       "  <thead>\n",
       "    <tr style=\"text-align: right;\">\n",
       "      <th></th>\n",
       "      <th>k</th>\n",
       "      <th>MSE</th>\n",
       "    </tr>\n",
       "  </thead>\n",
       "  <tbody>\n",
       "    <tr>\n",
       "      <th>2</th>\n",
       "      <td>3</td>\n",
       "      <td>21.825725</td>\n",
       "    </tr>\n",
       "    <tr>\n",
       "      <th>1</th>\n",
       "      <td>2</td>\n",
       "      <td>22.834655</td>\n",
       "    </tr>\n",
       "    <tr>\n",
       "      <th>3</th>\n",
       "      <td>4</td>\n",
       "      <td>22.936616</td>\n",
       "    </tr>\n",
       "    <tr>\n",
       "      <th>4</th>\n",
       "      <td>5</td>\n",
       "      <td>25.148451</td>\n",
       "    </tr>\n",
       "    <tr>\n",
       "      <th>0</th>\n",
       "      <td>1</td>\n",
       "      <td>29.194877</td>\n",
       "    </tr>\n",
       "  </tbody>\n",
       "</table>\n",
       "</div>"
      ],
      "text/plain": [
       "   k        MSE\n",
       "2  3  21.825725\n",
       "1  2  22.834655\n",
       "3  4  22.936616\n",
       "4  5  25.148451\n",
       "0  1  29.194877"
      ]
     },
     "execution_count": 94,
     "metadata": {},
     "output_type": "execute_result"
    }
   ],
   "source": [
    "# Sort\n",
    "\n",
    "results.sort_values(by='MSE', ascending=True)"
   ]
  },
  {
   "cell_type": "code",
   "execution_count": 95,
   "id": "af390bda",
   "metadata": {},
   "outputs": [
    {
     "name": "stdout",
     "output_type": "stream",
     "text": [
      "The MEDV is predicted as: [18.76666667]\n"
     ]
    }
   ],
   "source": [
    "#b.\n",
    "\n",
    "# New Date Frame to predict\n",
    "\n",
    "medv_predict = pd.DataFrame([{'CRIM': 0.2, 'ZN': 0, 'INDUS': 7, 'CHAS': 0, 'NOX': 0.538, 'RM': 6,\n",
    "                               'AGE': 62, 'DIS': 4.7, 'RAD': 4, 'TAX': 307,\n",
    "                               'PTRATIO': 21, 'LSTAT': 10}])\n",
    "\n",
    "# Scale and transform\n",
    "\n",
    "medv_predict = scaler.transform(medv_predict)\n",
    "\n",
    "# Use best neighbors\n",
    "\n",
    "knn = KNeighborsRegressor(n_neighbors=3)\n",
    "knn.fit(train_X, train_y)\n",
    "\n",
    "# Predict the class for the customer\n",
    "\n",
    "predicted_medv = knn.predict(medv_predict)\n",
    "\n",
    "print(\"The MEDV is predicted as:\", predicted_medv)"
   ]
  },
  {
   "cell_type": "code",
   "execution_count": 96,
   "id": "b2ca4f31",
   "metadata": {},
   "outputs": [
    {
     "name": "stdout",
     "output_type": "stream",
     "text": [
      "\n",
      "Regression statistics\n",
      "\n",
      "                      Mean Error (ME) : 0.4825\n",
      "       Root Mean Squared Error (RMSE) : 3.3686\n",
      "            Mean Absolute Error (MAE) : 2.0022\n",
      "          Mean Percentage Error (MPE) : -0.7924\n",
      "Mean Absolute Percentage Error (MAPE) : 9.3879\n"
     ]
    }
   ],
   "source": [
    "# c.\n",
    "\n",
    "# Print performance measures (training data)\n",
    "\n",
    "regressionSummary(train_y, knn.predict(train_X))"
   ]
  },
  {
   "cell_type": "code",
   "execution_count": 97,
   "id": "db4ae539",
   "metadata": {},
   "outputs": [
    {
     "name": "stdout",
     "output_type": "stream",
     "text": [
      "\n",
      "Regression statistics\n",
      "\n",
      "                      Mean Error (ME) : 0.8637\n",
      "       Root Mean Squared Error (RMSE) : 4.6718\n",
      "            Mean Absolute Error (MAE) : 2.9856\n",
      "          Mean Percentage Error (MPE) : -0.5705\n",
      "Mean Absolute Percentage Error (MAPE) : 13.1491\n"
     ]
    }
   ],
   "source": [
    "# Print performance measures (validation data)\n",
    "\n",
    "regressionSummary(valid_y, knn.predict(valid_X))"
   ]
  },
  {
   "cell_type": "markdown",
   "id": "4da2e237",
   "metadata": {},
   "source": [
    "These regression summaries suggest that the model is performing well on the training data but not able to generalize to new data. I believe it to be overly fitting to the patterns and noise in the training data, resulting in an optimistic data error."
   ]
  },
  {
   "cell_type": "markdown",
   "id": "8ad10cae",
   "metadata": {},
   "source": [
    "# 7.3.e\n",
    "\n",
    "Using k-NN prediction for predicting MEDV for several thousands of new tracts has a few disadvantages. The k-NN algorithm's is very complex and requires a lot of time consuming distance calculations for each prediction. Additionally, k-NN stores the whole training dataset into memory, which causes it to be very memory intensive and causes slower processing. The operations that the algorithm goes through to create each prediction is:\n",
    "Calculates the Euclidean distance between the new tract and every training data point. Then, it will sort the distances in ascending order to find the k nearest neighbors. Finally, it will make predictions based on the majority class or average of the of the k nearest neighbors for the target variable."
   ]
  }
 ],
 "metadata": {
  "kernelspec": {
   "display_name": "Python 3 (ipykernel)",
   "language": "python",
   "name": "python3"
  },
  "language_info": {
   "codemirror_mode": {
    "name": "ipython",
    "version": 3
   },
   "file_extension": ".py",
   "mimetype": "text/x-python",
   "name": "python",
   "nbconvert_exporter": "python",
   "pygments_lexer": "ipython3",
   "version": "3.10.9"
  }
 },
 "nbformat": 4,
 "nbformat_minor": 5
}
