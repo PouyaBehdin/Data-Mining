{
 "cells": [
  {
   "cell_type": "code",
   "execution_count": 1,
   "id": "07fc59a7",
   "metadata": {},
   "outputs": [
    {
     "name": "stdout",
     "output_type": "stream",
     "text": [
      "no display found. Using non-interactive Agg backend\n"
     ]
    }
   ],
   "source": [
    "#Import Libraries\n",
    "%matplotlib inline\n",
    "import matplotlib.pyplot as plt\n",
    "import numpy as np\n",
    "import math\n",
    "from pathlib import Path\n",
    "import seaborn as sns\n",
    "import pandas as pd\n",
    "import os\n",
    "from sklearn.model_selection import train_test_split\n",
    "from sklearn.linear_model import LinearRegression\n",
    "from sklearn.metrics import accuracy_score, roc_curve, auc\n",
    "import matplotlib.pylab as plt\n",
    "from dmba import regressionSummary, classificationSummary, liftChart, gainsChart\n",
    "from sklearn.model_selection import train_test_split\n",
    "from dmba import classificationSummary\n",
    "import matplotlib.pyplot as plt\n",
    "from sklearn.metrics import confusion_matrix"
   ]
  },
  {
   "cell_type": "code",
   "execution_count": 2,
   "id": "0c0b6629",
   "metadata": {},
   "outputs": [
    {
     "name": "stdout",
     "output_type": "stream",
     "text": [
      "/Users/pouyasohrab\n"
     ]
    }
   ],
   "source": [
    "#Directory\n",
    "working_directory = os.getcwd()\n",
    "print(working_directory)"
   ]
  },
  {
   "cell_type": "code",
   "execution_count": 3,
   "id": "bee60112",
   "metadata": {},
   "outputs": [],
   "source": [
    "#Directory\n",
    "#path = working_directory + '/dmba/'\n",
    "#df = pd.read_csv(path)"
   ]
  },
  {
   "cell_type": "code",
   "execution_count": 4,
   "id": "40e49663",
   "metadata": {},
   "outputs": [
    {
     "name": "stdout",
     "output_type": "stream",
     "text": [
      "Confusion Matrix\n",
      "[[920  58]\n",
      " [ 32  30]]\n",
      "Error %:  8.65\n"
     ]
    }
   ],
   "source": [
    "# 5.1\n",
    "\n",
    "# Positive = Fraud \n",
    "# Negative = Non-Fraudulent\n",
    "tp = 30 \n",
    "fp = 58\n",
    "tn = 920 \n",
    "fn = 32\n",
    "total = (tn+fp+fn+tp)\n",
    "\n",
    "# Confusion Matrix\n",
    "cmatrix = np.array([[tn,fp],[fn,tp]]) \n",
    "print(\"Confusion Matrix\")\n",
    "print(cmatrix)\n",
    "# Error Rate and Print\n",
    "error = (fp+fn)/total\n",
    "print(\"Error %: \", round(error*100,2))\n"
   ]
  },
  {
   "cell_type": "markdown",
   "id": "0faa3a7f",
   "metadata": {},
   "source": [
    "# 5.4\n",
    "\n",
    "A.\n",
    "The first bar from the left in Figure 5.12 represents the lift value at the 10th percentile. Lift is a metric that measures effectiveness of a model in comparison to the baseline. For this instance, the lift value of roughly 7 at the 10th percentile indicates that the model is capable of identifying fraudulent cases at a rate 7 times higher than the baseline.\n",
    "\n",
    "The second bar from the left represents the lift value at the 20th percentile, which is roughly at 2.5. This means that the model is capable of identifying fraudulent cases at a rate 2.5 times higher than the baseline at the 20th percentile.\n",
    "\n",
    "In summary, The lift shows how much better the model can perform in comparison to a random selection of Fraud vs Non-Fraudulent.\n",
    "\n",
    "B.\n",
    "By analyzing the lift values and decile lift chart, you can identify which segments of the data the model performs better on. With this information you can allocate resources more effectively. For example, if the lift is higher at certain percentiles, and you have a tight budget for marketing campaign, you can focus more attention on the higher performing segments such as the top 10 and 20 percentiles (in this case) to detect and prevent fraudulent cases.\n",
    "\n",
    "C.\n",
    "True positives (TP): 30\n",
    "False positives (FP): 58\n",
    "True negatives (TN): 920\n",
    "False negatives (FN): 32\n",
    "\n",
    "To determine the actual negative and positive values, we need to consider the actual classification of the cases.\n",
    "\n",
    "Actual positive cases (fraudulent): TP + FN = 30 + 32 = 62\n",
    "Actual negative cases (non-fraudulent): FP + TN = 58 + 920 = 978\n",
    "Total Cases 978+62 = 1040\n",
    "False Negative 1040 - 978 = 62\n",
    "Error rate will be equal to the False Negative Rate. FN/Total\n",
    "\n",
    "Error Rate: (62/1040)*100 = 5.96%\n",
    "    \n",
    "D.\n",
    "The error rate is a metric that provides a general measure of the model's accuracy by calculating the proportion of misclassified records. It gives an overall overview of the model's performance, but it does not provide insights on how the model performs across different segments.\n",
    "\n",
    "The lift chart provides insight on the model's performance at different percentiles. It helps identify segments of data where the model performs better than the baseline. Lift metric is useful in identifying the higher performing segments (percentiles) so that we can focus on them and allocate resources if needed.\n",
    "\n",
    "Overall, both metrics have their importance depending on the specific goals. The error rate illustrates the model's accuracy; while, the lift chart illustrates performance across different segments.\n"
   ]
  },
  {
   "cell_type": "code",
   "execution_count": 5,
   "id": "0819c7fb",
   "metadata": {},
   "outputs": [
    {
     "name": "stdout",
     "output_type": "stream",
     "text": [
      "Confusion Matrix\n",
      "[[270 130]\n",
      " [ 90 310]]\n",
      "Error %:  27.5\n"
     ]
    }
   ],
   "source": [
    "# 5.5\n",
    "# A\n",
    "\n",
    "# Positive = Fraud \n",
    "# Negative = Non-Fraudulent\n",
    "tp = 310 \n",
    "fp = 130 \n",
    "tn = 270 \n",
    "fn = 90 \n",
    "total = (tn+fp+fn+tp)\n",
    "\n",
    "# Confusion Matrix\n",
    "cmatrix = np.array([[tn,fp],[fn,tp]])\n",
    "print(\"Confusion Matrix\")\n",
    "print(cmatrix) \n",
    "# Error Rate and Print\n",
    "error = (fp+fn)/total\n",
    "print(\"Error %: \", round(error*100,2))"
   ]
  },
  {
   "cell_type": "code",
   "execution_count": 6,
   "id": "9a20b9e7",
   "metadata": {},
   "outputs": [
    {
     "name": "stdout",
     "output_type": "stream",
     "text": [
      "Confusion Matrix\n",
      "[[534.6 257.4]\n",
      " [  1.8   6.2]]\n",
      "Error %:  32.4\n"
     ]
    }
   ],
   "source": [
    "# 5.5\n",
    "# B\n",
    "\n",
    "# Adjusting Weight\n",
    "Weight_Responders = 50/1\n",
    "Weight_Non_Responders = 50/99\n",
    "\n",
    "# Adjusting\n",
    "tp = 310/Weight_Responders \n",
    "fp = 130/Weight_Non_Responders \n",
    "tn = 270/Weight_Non_Responders \n",
    "fn = 90/Weight_Responders \n",
    "total = (tn+fp+fn+tp)\n",
    "\n",
    "cmatrix = np.array([[tn,fp],[fn,tp]]) \n",
    "print(\"Confusion Matrix\")\n",
    "print(cmatrix) \n",
    "error = (fp+fn)/total \n",
    "print(\"Error %: \", round(error*100,2))"
   ]
  },
  {
   "cell_type": "code",
   "execution_count": 7,
   "id": "d13f08e1",
   "metadata": {},
   "outputs": [
    {
     "name": "stdout",
     "output_type": "stream",
     "text": [
      "Error %:  0.775\n"
     ]
    }
   ],
   "source": [
    "# 5.5\n",
    "# C\n",
    "\n",
    "# Fraud Classified As Fraud (Adjusted)\n",
    "tp_adjusted = 310/Weight_Responders\n",
    "print(\"Error %: \", (tp_adjusted/800)*100)"
   ]
  },
  {
   "cell_type": "code",
   "execution_count": 10,
   "id": "70c2be57",
   "metadata": {},
   "outputs": [
    {
     "name": "stdout",
     "output_type": "stream",
     "text": [
      "Cutoff: 0.25\n",
      "Confusion Matrix:\n",
      "[[9 8]\n",
      " [0 3]]\n",
      "Error %: 0.4\n",
      "Sensitivity: 1.0\n",
      "Specificity: 0.5294117647058824\n",
      "\n",
      "Cutoff: 0.5\n",
      "Confusion Matrix:\n",
      "[[15  2]\n",
      " [ 0  3]]\n",
      "Error %: 0.1\n",
      "Sensitivity: 1.0\n",
      "Specificity: 0.8823529411764706\n",
      "\n",
      "Cutoff: 0.75\n",
      "Confusion Matrix:\n",
      "[[17  0]\n",
      " [ 1  2]]\n",
      "Error %: 0.05\n",
      "Sensitivity: 0.6666666666666666\n",
      "Specificity: 1.0\n",
      "\n"
     ]
    }
   ],
   "source": [
    "# 5.7\n",
    "# A\n",
    "\n",
    "# Create Table\n",
    "df = {\n",
    "    'Propensity of 1': [0.03, 0.52, 0.38, 0.82, 0.33, 0.42, 0.55, 0.59, 0.09, 0.21, 0.43, 0.04, 0.08, 0.13, 0.01, 0.79, 0.42, 0.29, 0.08, 0.02],\n",
    "    'Actual': [0, 0, 0, 1, 0, 0, 1, 0, 0, 0, 0, 0, 0, 0, 0, 1, 0, 0, 0, 0]\n",
    "}\n",
    "table = pd.DataFrame(df)\n",
    "# Define Cutoffs\n",
    "cutoffs = [0.25, 0.5, 0.75]\n",
    "\n",
    "# Calculations\n",
    "for x in cutoffs:\n",
    "    predicted = table['Propensity of 1'] > x\n",
    "    cmatrix = confusion_matrix(table['Actual'], predicted)\n",
    "    tn = cmatrix[0, 0]\n",
    "    fp = cmatrix[0, 1]\n",
    "    fn = cmatrix[1, 0]\n",
    "    tp = cmatrix[1, 1]\n",
    "    total = (tn + fp + fn + tp)\n",
    "    error = (fp + fn) / total\n",
    "    sensitivity = tp / (tp + fn)\n",
    "    specificity = tn / (tn + fp)\n",
    "# Print Outputs  \n",
    "    print(\"Cutoff:\", x)\n",
    "    print(\"Confusion Matrix:\")\n",
    "    print(cmatrix)\n",
    "    print(\"Error %:\", error)\n",
    "    print(\"Sensitivity:\", sensitivity)\n",
    "    print(\"Specificity:\", specificity)\n",
    "    print()"
   ]
  },
  {
   "cell_type": "code",
   "execution_count": 13,
   "id": "0957cba1",
   "metadata": {},
   "outputs": [
    {
     "data": {
      "image/png": "[encoded data removed]",
      "text/plain": [
       "<Figure size 640x480 with 2 Axes>"
      ]
     },
     "metadata": {},
     "output_type": "display_data"
    }
   ],
   "source": [
    "# 5.7\n",
    "# B\n",
    "\n",
    "# Import\n",
    "%matplotlib inline\n",
    "from dmba import gainsChart, liftChart\n",
    "\n",
    "# Create Table\n",
    "df = {\n",
    "    'Propensity of 1': [0.03, 0.52, 0.38, 0.82, 0.33, 0.42, 0.55, 0.59, 0.09, 0.21, 0.43, 0.04, 0.08, 0.13, 0.01, 0.79, 0.42, 0.29, 0.08, 0.02],\n",
    "    'Actual': [0, 0, 0, 1, 0, 0, 1, 0, 0, 0, 0, 0, 0, 0, 0, 1, 0, 0, 0, 0]\n",
    "}\n",
    "table = pd.DataFrame(df)\n",
    "\n",
    "# Sort table on 'Propensity of 1' descending order\n",
    "table = table.sort_values('Propensity of 1', ascending=False)\n",
    "\n",
    "# Gains Chart\n",
    "fig, axes = plt.subplots(nrows=1, ncols=2)\n",
    "ax = gainsChart(table['Actual'], ax=axes[0])\n",
    "ax.set_xlabel('No. of Cases')\n",
    "ax.set_ylabel('Cumulative')\n",
    "ax.set_title('Cumulative Gains Chart')\n",
    "# Lift Chart\n",
    "ax = liftChart(table['Actual'], ax=axes[1], labelBars=False)\n",
    "ax.set_ylabel('Lift')\n",
    "\n",
    "plt.show()"
   ]
  }
 ],
 "metadata": {
  "kernelspec": {
   "display_name": "Python 3 (ipykernel)",
   "language": "python",
   "name": "python3"
  },
  "language_info": {
   "codemirror_mode": {
    "name": "ipython",
    "version": 3
   },
   "file_extension": ".py",
   "mimetype": "text/x-python",
   "name": "python",
   "nbconvert_exporter": "python",
   "pygments_lexer": "ipython3",
   "version": "3.10.9"
  }
 },
 "nbformat": 4,
 "nbformat_minor": 5
}
